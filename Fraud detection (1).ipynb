{
 "cells": [
  {
   "cell_type": "markdown",
   "id": "3394668e-3510-4f79-8a62-89b1270d7359",
   "metadata": {},
   "source": [
    "# PROJECT INTRODUCTION\n",
    "  **Problem Statement** --> \"We aim to proactively detect fraudulent transactions in a financial dataset of 6.3M records and 10 features.\"<br>\n",
    "  **Why Fraud Detection Matters** --> \"Since fraud is rare and highly imbalanced, we focus on precision at top K% and model interpretability.\""
   ]
  },
  {
   "cell_type": "markdown",
   "id": "94a18d17-a10d-49f0-8ffd-962775c8fe5d",
   "metadata": {},
   "source": [
    "## Importing Required Libraries"
   ]
  },
  {
   "cell_type": "code",
   "execution_count": 92,
   "id": "9e725f2e-7114-4418-a54f-22304927ef81",
   "metadata": {},
   "outputs": [],
   "source": [
    "\n",
    "import os, json, joblib, gc, math\n",
    "import numpy as np, pandas as pd\n",
    "import matplotlib.pyplot as plt, seaborn as sns\n",
    "sns.set_style(\"whitegrid\")\n",
    "\n",
    "from sklearn.model_selection import train_test_split, StratifiedKFold\n",
    "from sklearn.impute import SimpleImputer\n",
    "from sklearn.preprocessing import StandardScaler\n",
    "from sklearn.pipeline import make_pipeline\n",
    "from sklearn.linear_model import LogisticRegression\n",
    "from sklearn.metrics import roc_auc_score, average_precision_score, precision_recall_curve, classification_report, confusion_matrix\n",
    "from sklearn.calibration import CalibratedClassifierCV\n",
    "from lightgbm import LGBMClassifier, early_stopping, log_evaluation\n",
    "RANDOM_STATE = 42  # you can use any fixed number for reproducibility\n",
    "\n",
    "# small utility\n",
    "def precision_at_k(y_true, y_scores, k_fraction):\n",
    "    n = len(y_true)\n",
    "    k = max(1, int(np.floor(k_fraction * n)))\n",
    "    idx = np.argsort(y_scores)[-k:]\n",
    "    return y_true.reset_index(drop=True).iloc[idx].sum() / k\n"
   ]
  },
  {
   "cell_type": "markdown",
   "id": "2516211b-52a1-43ca-89af-1c4859d80a49",
   "metadata": {},
   "source": [
    "## Quick Checks"
   ]
  },
  {
   "cell_type": "code",
   "execution_count": 93,
   "id": "42a6fc56-15e5-456e-a28b-88798b6faf61",
   "metadata": {},
   "outputs": [
    {
     "name": "stdout",
     "output_type": "stream",
     "text": [
      "File exists: True\n",
      "File size (GB): 0.4596400847658515\n"
     ]
    }
   ],
   "source": [
    "\n",
    "DATA_PATH = \"Fraud.csv\"\n",
    "print(\"File exists:\", os.path.exists(DATA_PATH))\n",
    "print(\"File size (GB):\", os.path.getsize(DATA_PATH)/(1024**3))\n"
   ]
  },
  {
   "cell_type": "markdown",
   "id": "7c8b8cd6-58c8-46c0-a5bc-d6366a2cb83f",
   "metadata": {},
   "source": [
    "## Loading Data\n"
   ]
  },
  {
   "cell_type": "code",
   "execution_count": 94,
   "id": "7d8e81ae-7955-4823-842e-71f9265370fc",
   "metadata": {},
   "outputs": [
    {
     "name": "stdout",
     "output_type": "stream",
     "text": [
      "Rows,cols: (6362620, 11)\n"
     ]
    },
    {
     "data": {
      "text/html": [
       "<div>\n",
       "<style scoped>\n",
       "    .dataframe tbody tr th:only-of-type {\n",
       "        vertical-align: middle;\n",
       "    }\n",
       "\n",
       "    .dataframe tbody tr th {\n",
       "        vertical-align: top;\n",
       "    }\n",
       "\n",
       "    .dataframe thead th {\n",
       "        text-align: right;\n",
       "    }\n",
       "</style>\n",
       "<table border=\"1\" class=\"dataframe\">\n",
       "  <thead>\n",
       "    <tr style=\"text-align: right;\">\n",
       "      <th></th>\n",
       "      <th>step</th>\n",
       "      <th>type</th>\n",
       "      <th>amount</th>\n",
       "      <th>nameOrig</th>\n",
       "      <th>oldbalanceOrg</th>\n",
       "      <th>newbalanceOrig</th>\n",
       "      <th>nameDest</th>\n",
       "      <th>oldbalanceDest</th>\n",
       "      <th>newbalanceDest</th>\n",
       "      <th>isFraud</th>\n",
       "      <th>isFlaggedFraud</th>\n",
       "    </tr>\n",
       "  </thead>\n",
       "  <tbody>\n",
       "    <tr>\n",
       "      <th>0</th>\n",
       "      <td>1</td>\n",
       "      <td>PAYMENT</td>\n",
       "      <td>9839.64</td>\n",
       "      <td>C1231006815</td>\n",
       "      <td>170136.0</td>\n",
       "      <td>160296.36</td>\n",
       "      <td>M1979787155</td>\n",
       "      <td>0.0</td>\n",
       "      <td>0.0</td>\n",
       "      <td>0</td>\n",
       "      <td>0</td>\n",
       "    </tr>\n",
       "    <tr>\n",
       "      <th>1</th>\n",
       "      <td>1</td>\n",
       "      <td>PAYMENT</td>\n",
       "      <td>1864.28</td>\n",
       "      <td>C1666544295</td>\n",
       "      <td>21249.0</td>\n",
       "      <td>19384.72</td>\n",
       "      <td>M2044282225</td>\n",
       "      <td>0.0</td>\n",
       "      <td>0.0</td>\n",
       "      <td>0</td>\n",
       "      <td>0</td>\n",
       "    </tr>\n",
       "    <tr>\n",
       "      <th>2</th>\n",
       "      <td>1</td>\n",
       "      <td>TRANSFER</td>\n",
       "      <td>181.00</td>\n",
       "      <td>C1305486145</td>\n",
       "      <td>181.0</td>\n",
       "      <td>0.00</td>\n",
       "      <td>C553264065</td>\n",
       "      <td>0.0</td>\n",
       "      <td>0.0</td>\n",
       "      <td>1</td>\n",
       "      <td>0</td>\n",
       "    </tr>\n",
       "    <tr>\n",
       "      <th>3</th>\n",
       "      <td>1</td>\n",
       "      <td>CASH_OUT</td>\n",
       "      <td>181.00</td>\n",
       "      <td>C840083671</td>\n",
       "      <td>181.0</td>\n",
       "      <td>0.00</td>\n",
       "      <td>C38997010</td>\n",
       "      <td>21182.0</td>\n",
       "      <td>0.0</td>\n",
       "      <td>1</td>\n",
       "      <td>0</td>\n",
       "    </tr>\n",
       "    <tr>\n",
       "      <th>4</th>\n",
       "      <td>1</td>\n",
       "      <td>PAYMENT</td>\n",
       "      <td>11668.14</td>\n",
       "      <td>C2048537720</td>\n",
       "      <td>41554.0</td>\n",
       "      <td>29885.86</td>\n",
       "      <td>M1230701703</td>\n",
       "      <td>0.0</td>\n",
       "      <td>0.0</td>\n",
       "      <td>0</td>\n",
       "      <td>0</td>\n",
       "    </tr>\n",
       "  </tbody>\n",
       "</table>\n",
       "</div>"
      ],
      "text/plain": [
       "   step      type    amount     nameOrig  oldbalanceOrg  newbalanceOrig  \\\n",
       "0     1   PAYMENT   9839.64  C1231006815       170136.0       160296.36   \n",
       "1     1   PAYMENT   1864.28  C1666544295        21249.0        19384.72   \n",
       "2     1  TRANSFER    181.00  C1305486145          181.0            0.00   \n",
       "3     1  CASH_OUT    181.00   C840083671          181.0            0.00   \n",
       "4     1   PAYMENT  11668.14  C2048537720        41554.0        29885.86   \n",
       "\n",
       "      nameDest  oldbalanceDest  newbalanceDest  isFraud  isFlaggedFraud  \n",
       "0  M1979787155             0.0             0.0        0               0  \n",
       "1  M2044282225             0.0             0.0        0               0  \n",
       "2   C553264065             0.0             0.0        1               0  \n",
       "3    C38997010         21182.0             0.0        1               0  \n",
       "4  M1230701703             0.0             0.0        0               0  "
      ]
     },
     "metadata": {},
     "output_type": "display_data"
    }
   ],
   "source": [
    "# Cell 3: load data (use dtype optimization if needed)\n",
    "df = pd.read_csv(DATA_PATH)\n",
    "print(\"Rows,cols:\", df.shape)\n",
    "display(df.head())\n"
   ]
  },
  {
   "cell_type": "markdown",
   "id": "b55faa31-4431-470e-9fe0-9167acc53a16",
   "metadata": {},
   "source": [
    "## Missing values & basic check\n"
   ]
  },
  {
   "cell_type": "code",
   "execution_count": 95,
   "id": "33fdb0e2-e300-4ed4-be34-80c5584c651b",
   "metadata": {},
   "outputs": [
    {
     "name": "stdout",
     "output_type": "stream",
     "text": [
      "Missing percent per column:\n",
      "step              0.0\n",
      "type              0.0\n",
      "amount            0.0\n",
      "nameOrig          0.0\n",
      "oldbalanceOrg     0.0\n",
      "newbalanceOrig    0.0\n",
      "nameDest          0.0\n",
      "oldbalanceDest    0.0\n",
      "newbalanceDest    0.0\n",
      "isFraud           0.0\n",
      "isFlaggedFraud    0.0\n",
      "dtype: float64\n",
      "\n",
      "Dtypes:\n",
      " step                int64\n",
      "type               object\n",
      "amount            float64\n",
      "nameOrig           object\n",
      "oldbalanceOrg     float64\n",
      "newbalanceOrig    float64\n",
      "nameDest           object\n",
      "oldbalanceDest    float64\n",
      "newbalanceDest    float64\n",
      "isFraud             int64\n",
      "isFlaggedFraud      int64\n",
      "dtype: object\n",
      "\n",
      "Fraud rate:  0.001290820448180152\n"
     ]
    }
   ],
   "source": [
    "print(\"Missing percent per column:\")\n",
    "print(df.isna().mean()*100)\n",
    "print(\"\\nDtypes:\\n\", df.dtypes)\n",
    "\n",
    "# quick fraud rate\n",
    "print(\"\\nFraud rate: \", df['isFraud'].mean())\n"
   ]
  },
  {
   "cell_type": "markdown",
   "id": "af2f4b87-b262-4912-aba5-5a04c48ce1b7",
   "metadata": {},
   "source": [
    "# DATA QUALITY CHECK \n",
    "  **Missing Values** --> No missing values were found across all columns. <br>\n",
    "  **Fraud Rate** --> Only 0.12% of the transactions are fraudulent, showing a highly   imbalanced dataset.<br>\n",
    "  This imbalance is typical in fraud detection problems nd highlights the need for robust evaluation metrics (like ROC-AUC, PR-AUC, Precision@K) instead of accuracy.  "
   ]
  },
  {
   "cell_type": "markdown",
   "id": "b3aba6c3-e786-44ed-ba45-ddd2d93c234a",
   "metadata": {},
   "source": [
    "## Outlier detection & Multi-collinearity check"
   ]
  },
  {
   "cell_type": "code",
   "execution_count": 96,
   "id": "4767bdd6-6d48-4ec7-96ea-f816347ba7ca",
   "metadata": {},
   "outputs": [
    {
     "data": {
      "image/png": "[encoded data removed]",
      "text/plain": [
       "<Figure size 1200x600 with 5 Axes>"
      ]
     },
     "metadata": {},
     "output_type": "display_data"
    },
    {
     "name": "stdout",
     "output_type": "stream",
     "text": [
      "          feature         VIF\n",
      "0          amount    3.861988\n",
      "1   oldbalanceOrg  464.011728\n",
      "2  newbalanceOrig  465.356124\n",
      "3  oldbalanceDest   70.452251\n",
      "4  newbalanceDest   82.167173\n"
     ]
    }
   ],
   "source": [
    "import matplotlib.pyplot as plt\n",
    "import seaborn as sns\n",
    "from statsmodels.stats.outliers_influence import variance_inflation_factor\n",
    "\n",
    "# Outlier check\n",
    "numeric_cols = ['amount','oldbalanceOrg','newbalanceOrig','oldbalanceDest','newbalanceDest']\n",
    "\n",
    "plt.figure(figsize=(12,6))\n",
    "for i, col in enumerate(numeric_cols, 1):\n",
    "    plt.subplot(2, 3, i)\n",
    "    sns.boxplot(x=df[col])\n",
    "    plt.title(f'Boxplot of {col}')\n",
    "plt.tight_layout()\n",
    "plt.show()\n",
    "\n",
    "# Multi-collinearity check using VIF\n",
    "X_num = df[numeric_cols].fillna(0)  # safe fill just in case\n",
    "vif_data = pd.DataFrame()\n",
    "vif_data['feature'] = X_num.columns\n",
    "vif_data['VIF'] = [variance_inflation_factor(X_num.values, i) for i in range(X_num.shape[1])]\n",
    "print(vif_data)\n"
   ]
  },
  {
   "cell_type": "markdown",
   "id": "1c7b1872-0fca-463c-b08d-d041f09d1367",
   "metadata": {},
   "source": [
    "# OUTLIER & MULTICOLLINEARITY ANALYSIS\n",
    "  **Outliers** --> Boxplots revealed significant outliers in transaction amounts and balances.<br>\n",
    "               --> We choose **not to remove them**, since fraudulent transactions themselves can appear as outliers.<br>\n",
    "  **Multicollinearity** --> Variance Inflation Factor (VIF) analysis revealed very high collinearity among balance-related variables ('oldbalanceOrg', 'newbalanceOrig', 'oldbalanceDest', 'newbalanceDest'), with VIF values > 100 in some cases.<br>\n",
    "  High collinearity can destabilize linear models and inflate feature importance, so we addressed this in the next step."
   ]
  },
  {
   "cell_type": "markdown",
   "id": "5c35a0b3-2d8b-4f72-85e4-d6d2c90b3338",
   "metadata": {},
   "source": [
    "## Drop highly collinear features (based on VIF analysis)\n",
    "\n"
   ]
  },
  {
   "cell_type": "code",
   "execution_count": 97,
   "id": "070133fa-90c0-4336-943c-f53cc0f68332",
   "metadata": {},
   "outputs": [
    {
     "name": "stdout",
     "output_type": "stream",
     "text": [
      "Using reduced dataset with: 7 features\n"
     ]
    }
   ],
   "source": [
    "drop_cols = ['oldbalanceOrg', 'newbalanceOrig', 'oldbalanceDest', 'newbalanceDest']\n",
    "df_reduced = df.drop(columns=drop_cols)\n",
    "\n",
    "print(\"Using reduced dataset with:\", df_reduced.shape[1], \"features\")\n"
   ]
  },
  {
   "cell_type": "markdown",
   "id": "a34fbdfe-0f1c-416c-8002-5b4f0ab794c0",
   "metadata": {},
   "source": [
    "# DATA CLEANING SUMMARY\n",
    "  --> Removed **highly collinear features** ('oldbalanceOrg', 'newbalanceOrig', 'oldbalanceDest', 'newbalanceDest') to reduce redundancy and improve model interpretability.<br>\n",
    "  --> Retained key features such as 'step', 'amount', 'type' (encoded), and fraud-related flags.<br>\n",
    "  --> The cleaned dataset now has **reduced multicollinearity**and is ready for model training.\n",
    " \n",
    "  "
   ]
  },
  {
   "cell_type": "markdown",
   "id": "daf93f86-200d-4944-945d-570814f2d8be",
   "metadata": {},
   "source": [
    "## Q1.DATA CLEANING ##\n",
    "  --> No missing values found.\n",
    "  --> Outliers detected in amount and balance fields using boxplots, but retained since fraud often appears as extreme values.\n",
    "  --> Multicollinearity checked with VIF --> highly correlated balance features were dropped."
   ]
  },
  {
   "cell_type": "markdown",
   "id": "9e2e2e87-b295-45ca-b76d-2580fa3695db",
   "metadata": {},
   "source": [
    "## Q3.FEATURE SELECTION ##\n",
    "  --> Numeric features retained after removing multicollinear ones(VIF).<br>\n",
    "  --> Transaction type encoded into dummy variables.<br>\n",
    "  --> Feature importance validated with SHAP to ensure interpretability."
   ]
  },
  {
   "cell_type": "markdown",
   "id": "6f512a1a-4df9-4fa1-b279-5a6aaa24bcff",
   "metadata": {},
   "source": [
    "## Encode categorical variables\n"
   ]
  },
  {
   "cell_type": "code",
   "execution_count": 98,
   "id": "b3458ed6-a282-438d-9b82-1647cf07aef7",
   "metadata": {},
   "outputs": [
    {
     "name": "stdout",
     "output_type": "stream",
     "text": [
      "Final dataset shape after encoding: (6362620, 8)\n"
     ]
    },
    {
     "data": {
      "text/html": [
       "<div>\n",
       "<style scoped>\n",
       "    .dataframe tbody tr th:only-of-type {\n",
       "        vertical-align: middle;\n",
       "    }\n",
       "\n",
       "    .dataframe tbody tr th {\n",
       "        vertical-align: top;\n",
       "    }\n",
       "\n",
       "    .dataframe thead th {\n",
       "        text-align: right;\n",
       "    }\n",
       "</style>\n",
       "<table border=\"1\" class=\"dataframe\">\n",
       "  <thead>\n",
       "    <tr style=\"text-align: right;\">\n",
       "      <th></th>\n",
       "      <th>step</th>\n",
       "      <th>amount</th>\n",
       "      <th>isFraud</th>\n",
       "      <th>isFlaggedFraud</th>\n",
       "      <th>type_CASH_OUT</th>\n",
       "      <th>type_DEBIT</th>\n",
       "      <th>type_PAYMENT</th>\n",
       "      <th>type_TRANSFER</th>\n",
       "    </tr>\n",
       "  </thead>\n",
       "  <tbody>\n",
       "    <tr>\n",
       "      <th>0</th>\n",
       "      <td>1</td>\n",
       "      <td>9839.64</td>\n",
       "      <td>0</td>\n",
       "      <td>0</td>\n",
       "      <td>False</td>\n",
       "      <td>False</td>\n",
       "      <td>True</td>\n",
       "      <td>False</td>\n",
       "    </tr>\n",
       "    <tr>\n",
       "      <th>1</th>\n",
       "      <td>1</td>\n",
       "      <td>1864.28</td>\n",
       "      <td>0</td>\n",
       "      <td>0</td>\n",
       "      <td>False</td>\n",
       "      <td>False</td>\n",
       "      <td>True</td>\n",
       "      <td>False</td>\n",
       "    </tr>\n",
       "    <tr>\n",
       "      <th>2</th>\n",
       "      <td>1</td>\n",
       "      <td>181.00</td>\n",
       "      <td>1</td>\n",
       "      <td>0</td>\n",
       "      <td>False</td>\n",
       "      <td>False</td>\n",
       "      <td>False</td>\n",
       "      <td>True</td>\n",
       "    </tr>\n",
       "    <tr>\n",
       "      <th>3</th>\n",
       "      <td>1</td>\n",
       "      <td>181.00</td>\n",
       "      <td>1</td>\n",
       "      <td>0</td>\n",
       "      <td>True</td>\n",
       "      <td>False</td>\n",
       "      <td>False</td>\n",
       "      <td>False</td>\n",
       "    </tr>\n",
       "    <tr>\n",
       "      <th>4</th>\n",
       "      <td>1</td>\n",
       "      <td>11668.14</td>\n",
       "      <td>0</td>\n",
       "      <td>0</td>\n",
       "      <td>False</td>\n",
       "      <td>False</td>\n",
       "      <td>True</td>\n",
       "      <td>False</td>\n",
       "    </tr>\n",
       "  </tbody>\n",
       "</table>\n",
       "</div>"
      ],
      "text/plain": [
       "   step    amount  isFraud  isFlaggedFraud  type_CASH_OUT  type_DEBIT  \\\n",
       "0     1   9839.64        0               0          False       False   \n",
       "1     1   1864.28        0               0          False       False   \n",
       "2     1    181.00        1               0          False       False   \n",
       "3     1    181.00        1               0           True       False   \n",
       "4     1  11668.14        0               0          False       False   \n",
       "\n",
       "   type_PAYMENT  type_TRANSFER  \n",
       "0          True          False  \n",
       "1          True          False  \n",
       "2         False           True  \n",
       "3         False          False  \n",
       "4          True          False  "
      ]
     },
     "execution_count": 98,
     "metadata": {},
     "output_type": "execute_result"
    }
   ],
   "source": [
    "df_model = df_reduced.copy()\n",
    "df_model = pd.get_dummies(df_model, columns=['type'], drop_first=True)\n",
    "df_model = df_model.drop(columns=['nameOrig', 'nameDest'])\n",
    "\n",
    "print(\"Final dataset shape after encoding:\", df_model.shape)\n",
    "df_model.head()\n"
   ]
  },
  {
   "cell_type": "markdown",
   "id": "bd197e49-96c9-465e-9ee0-7159112abca2",
   "metadata": {},
   "source": [
    "# ENCODING SUMMARY\n",
    "  --> Converted transaction type ('type') into dummy variables ('CASH_OUT', 'TRANSFER', 'PAYMENT', 'DEBIT').<br>\n",
    "  --> Removed identifier columns ('nameOrig', 'nameDest') since they don't provide predictive value.<br>\n",
    "  --> Final dataset now has **8 cleaned and encoded features** ready for modelling."
   ]
  },
  {
   "cell_type": "markdown",
   "id": "8e783fe8-a67b-439d-b7e1-511976355aef",
   "metadata": {},
   "source": [
    "# Splitting the Dataset"
   ]
  },
  {
   "cell_type": "code",
   "execution_count": 99,
   "id": "4a832ca4-8cea-4d70-8d97-b92190016e47",
   "metadata": {},
   "outputs": [
    {
     "name": "stdout",
     "output_type": "stream",
     "text": [
      "Train shape: (3817572, 7)\n",
      "Calibration shape: (1272524, 7)\n",
      "Validation shape: (1272524, 7)\n",
      "Fold 1: Train=3054057, Test=763515\n",
      "Fold 2: Train=3054057, Test=763515\n",
      "Fold 3: Train=3054058, Test=763514\n",
      "Fold 4: Train=3054058, Test=763514\n",
      "Fold 5: Train=3054058, Test=763514\n"
     ]
    }
   ],
   "source": [
    "from sklearn.model_selection import StratifiedKFold, train_test_split\n",
    "X = df_model.drop(columns=['isFraud'])\n",
    "y = df_model['isFraud']\n",
    "\n",
    "# First split: Train+Calib vs Validation\n",
    "X_temp, X_val, y_temp, y_val = train_test_split(\n",
    "    X, y, test_size=0.2, stratify=y, random_state=42\n",
    ")\n",
    "\n",
    "# Second split: Train vs Calibration\n",
    "X_train, X_calib, y_train, y_calib = train_test_split(\n",
    "    X_temp, y_temp, test_size=0.25, stratify=y_temp, random_state=42\n",
    ")\n",
    "\n",
    "print(\"Train shape:\", X_train.shape)\n",
    "print(\"Calibration shape:\", X_calib.shape)\n",
    "print(\"Validation shape:\", X_val.shape)\n",
    "skf = StratifiedKFold(n_splits=5, shuffle=True, random_state=42)\n",
    "for fold, (train_idx, test_idx) in enumerate(skf.split(X_train, y_train)):\n",
    "    print(f\"Fold {fold+1}: Train={len(train_idx)}, Test={len(test_idx)}\")\n"
   ]
  },
  {
   "cell_type": "markdown",
   "id": "e39e8fb1-6165-4237-8756-354505bd0513",
   "metadata": {},
   "source": [
    "# DATA SPLITTING SUMMARY\n",
    "  --> Dataset split into: **Training set** - 60%<br>\n",
    "  --> **Calibration set** - 20%<br>\n",
    "  --> **Validation set** - 20%<br>\n",
    "  --> Used **Stratified K-Fold** to maintain class balance across splits.<br>\n",
    "  --> Fraud remains highly imbalanced (~0.12%), so special care is needed in evaluation.<br>\n",
    "  \n",
    "  \n",
    "      "
   ]
  },
  {
   "cell_type": "markdown",
   "id": "0a0cf247-7c64-4f57-a2b8-060e4f50463d",
   "metadata": {},
   "source": [
    "## Baseline Logistic Regression"
   ]
  },
  {
   "cell_type": "code",
   "execution_count": 100,
   "id": "8c8c2c66-6591-4332-ac0b-b1bd5f612194",
   "metadata": {},
   "outputs": [
    {
     "name": "stdout",
     "output_type": "stream",
     "text": [
      "Baseline ROC AUC: 0.7996358010226292\n",
      "Baseline PR AUC: 0.02185006644305006\n"
     ]
    }
   ],
   "source": [
    "from sklearn.pipeline import make_pipeline\n",
    "from sklearn.preprocessing import StandardScaler\n",
    "from sklearn.linear_model import LogisticRegression\n",
    "from sklearn.metrics import roc_auc_score, average_precision_score\n",
    "RANDOM_STATE = 42  \n",
    "num_cols_baseline = X_train.select_dtypes(include=['number']).columns.tolist()\n",
    "\n",
    "# Logistic Regression pipeline\n",
    "baseline_pipe = make_pipeline(\n",
    "    StandardScaler(),\n",
    "    LogisticRegression(class_weight='balanced', max_iter=1000, random_state=RANDOM_STATE)\n",
    ")\n",
    "\n",
    "# Fit\n",
    "baseline_pipe.fit(X_train[num_cols_baseline], y_train)\n",
    "\n",
    "# Predicting probabilities\n",
    "y_val_proba_baseline = baseline_pipe.predict_proba(X_val[num_cols_baseline])[:, 1]\n",
    "\n",
    "# Evaluating\n",
    "print(\"Baseline ROC AUC:\", roc_auc_score(y_val, y_val_proba_baseline))\n",
    "print(\"Baseline PR AUC:\", average_precision_score(y_val, y_val_proba_baseline))\n",
    "\n"
   ]
  },
  {
   "cell_type": "markdown",
   "id": "13bde2fe-f175-4990-aa80-83d743a39765",
   "metadata": {},
   "source": [
    "# BASELINE LOGISTICS REGRESSION\n",
    "  --> Logistic Regression was trained on numeric features with class balancing.<br>\n",
    "  --> Results : ROC AUC ~ 0.80 & PR AUC ~ 0.02 (very low due to imbalance).<br>\n",
    "  --> While weak, this provides a **reference point** for improvement."
   ]
  },
  {
   "cell_type": "markdown",
   "id": "ddef66bb-b95e-4021-bbf1-2baac8559673",
   "metadata": {},
   "source": [
    "## LightGBM with StratifiedKFold"
   ]
  },
  {
   "cell_type": "code",
   "execution_count": 101,
   "id": "a3b1f0d5-5c57-4ff6-abd6-f0f980f2952f",
   "metadata": {},
   "outputs": [
    {
     "name": "stdout",
     "output_type": "stream",
     "text": [
      "\n",
      "Fold 1\n",
      "[LightGBM] [Info] Number of positive: 3942, number of negative: 3050115\n",
      "[LightGBM] [Info] Auto-choosing col-wise multi-threading, the overhead of testing was 0.063506 seconds.\n",
      "You can set `force_col_wise=true` to remove the overhead.\n",
      "[LightGBM] [Info] Total Bins 518\n",
      "[LightGBM] [Info] Number of data points in the train set: 3054057, number of used features: 6\n",
      "[LightGBM] [Info] [binary:BoostFromScore]: pavg=0.001291 -> initscore=-6.651246\n",
      "[LightGBM] [Info] Start training from score -6.651246\n",
      "Training until validation scores don't improve for 50 rounds\n",
      "Early stopping, best iteration is:\n",
      "[1]\tvalid_0's auc: 0.951887\tvalid_0's binary_logloss: 3.31927\n",
      "\n",
      "Fold 2\n",
      "[LightGBM] [Info] Number of positive: 3942, number of negative: 3050115\n",
      "[LightGBM] [Info] Auto-choosing row-wise multi-threading, the overhead of testing was 0.015411 seconds.\n",
      "You can set `force_row_wise=true` to remove the overhead.\n",
      "And if memory is not enough, you can set `force_col_wise=true`.\n",
      "[LightGBM] [Info] Total Bins 518\n",
      "[LightGBM] [Info] Number of data points in the train set: 3054057, number of used features: 6\n",
      "[LightGBM] [Info] [binary:BoostFromScore]: pavg=0.001291 -> initscore=-6.651246\n",
      "[LightGBM] [Info] Start training from score -6.651246\n",
      "Training until validation scores don't improve for 50 rounds\n",
      "Early stopping, best iteration is:\n",
      "[1]\tvalid_0's auc: 0.949936\tvalid_0's binary_logloss: 3.47058\n",
      "\n",
      "Fold 3\n",
      "[LightGBM] [Info] Number of positive: 3943, number of negative: 3050115\n",
      "[LightGBM] [Info] Auto-choosing row-wise multi-threading, the overhead of testing was 0.014509 seconds.\n",
      "You can set `force_row_wise=true` to remove the overhead.\n",
      "And if memory is not enough, you can set `force_col_wise=true`.\n",
      "[LightGBM] [Info] Total Bins 518\n",
      "[LightGBM] [Info] Number of data points in the train set: 3054058, number of used features: 6\n",
      "[LightGBM] [Info] [binary:BoostFromScore]: pavg=0.001291 -> initscore=-6.650993\n",
      "[LightGBM] [Info] Start training from score -6.650993\n",
      "Training until validation scores don't improve for 50 rounds\n",
      "Early stopping, best iteration is:\n",
      "[1]\tvalid_0's auc: 0.955437\tvalid_0's binary_logloss: 3.30623\n",
      "\n",
      "Fold 4\n",
      "[LightGBM] [Info] Number of positive: 3943, number of negative: 3050115\n",
      "[LightGBM] [Info] Auto-choosing row-wise multi-threading, the overhead of testing was 0.017978 seconds.\n",
      "You can set `force_row_wise=true` to remove the overhead.\n",
      "And if memory is not enough, you can set `force_col_wise=true`.\n",
      "[LightGBM] [Info] Total Bins 518\n",
      "[LightGBM] [Info] Number of data points in the train set: 3054058, number of used features: 6\n",
      "[LightGBM] [Info] [binary:BoostFromScore]: pavg=0.001291 -> initscore=-6.650993\n",
      "[LightGBM] [Info] Start training from score -6.650993\n",
      "Training until validation scores don't improve for 50 rounds\n",
      "Early stopping, best iteration is:\n",
      "[1]\tvalid_0's auc: 0.958586\tvalid_0's binary_logloss: 3.39842\n",
      "\n",
      "Fold 5\n",
      "[LightGBM] [Info] Number of positive: 3942, number of negative: 3050116\n",
      "[LightGBM] [Info] Auto-choosing row-wise multi-threading, the overhead of testing was 0.013062 seconds.\n",
      "You can set `force_row_wise=true` to remove the overhead.\n",
      "And if memory is not enough, you can set `force_col_wise=true`.\n",
      "[LightGBM] [Info] Total Bins 518\n",
      "[LightGBM] [Info] Number of data points in the train set: 3054058, number of used features: 6\n",
      "[LightGBM] [Info] [binary:BoostFromScore]: pavg=0.001291 -> initscore=-6.651247\n",
      "[LightGBM] [Info] Start training from score -6.651247\n",
      "Training until validation scores don't improve for 50 rounds\n",
      "Early stopping, best iteration is:\n",
      "[1]\tvalid_0's auc: 0.957157\tvalid_0's binary_logloss: 3.38047\n",
      "\n",
      "OOF ROC AUC: 0.9549773354813427\n",
      "OOF PR AUC: 0.09862024664973672\n",
      "\n",
      "Validation ROC AUC: 0.9563226547915875\n",
      "Validation PR AUC: 0.12511422225829946\n"
     ]
    }
   ],
   "source": [
    "from lightgbm import LGBMClassifier, early_stopping, log_evaluation\n",
    "from sklearn.metrics import roc_auc_score, average_precision_score\n",
    "from sklearn.model_selection import StratifiedKFold\n",
    "import numpy as np\n",
    "\n",
    "RANDOM_STATE = 42\n",
    "lgb_params = {\n",
    "    \"objective\": \"binary\",\n",
    "    \"boosting_type\": \"gbdt\",\n",
    "    \"learning_rate\": 0.05,\n",
    "    \"num_leaves\": 64,\n",
    "    \"max_depth\": -1,\n",
    "    \"scale_pos_weight\": (y_train.value_counts()[0] / y_train.value_counts()[1]),  # handle imbalance\n",
    "    \"n_estimators\": 2000,\n",
    "    \"random_state\": RANDOM_STATE,\n",
    "    \"n_jobs\": -1\n",
    "}\n",
    "\n",
    "# Stratified K-Fold setup\n",
    "skf = StratifiedKFold(n_splits=5, shuffle=True, random_state=RANDOM_STATE)\n",
    "oof_preds = np.zeros(len(X_train))\n",
    "val_preds = np.zeros(len(X_val))\n",
    "for fold, (train_idx, valid_idx) in enumerate(skf.split(X_train, y_train), 1):\n",
    "    print(f\"\\nFold {fold}\")\n",
    "    X_tr, X_val_fold = X_train.iloc[train_idx], X_train.iloc[valid_idx]\n",
    "    y_tr, y_val_fold = y_train.iloc[train_idx], y_train.iloc[valid_idx]\n",
    "\n",
    "    model = LGBMClassifier(**lgb_params)\n",
    "    model.fit(\n",
    "        X_tr, y_tr,\n",
    "        eval_set=[(X_val_fold, y_val_fold)],\n",
    "        eval_metric=\"auc\",\n",
    "        callbacks=[early_stopping(50), log_evaluation(100)]\n",
    "    )\n",
    "    \n",
    "    oof_preds[valid_idx] = model.predict_proba(X_val_fold)[:,1]\n",
    "    val_preds += model.predict_proba(X_val)[:,1] / skf.n_splits\n",
    "\n",
    "# Evaluating CV performance\n",
    "print(\"\\nOOF ROC AUC:\", roc_auc_score(y_train, oof_preds))\n",
    "print(\"OOF PR AUC:\", average_precision_score(y_train, oof_preds))\n",
    "print(\"\\nValidation ROC AUC:\", roc_auc_score(y_val, val_preds))\n",
    "print(\"Validation PR AUC:\", average_precision_score(y_val, val_preds))\n"
   ]
  },
  {
   "cell_type": "markdown",
   "id": "876e932b-555a-44f4-8f50-e98bc2120d96",
   "metadata": {},
   "source": [
    "# LIGHTGBM MODEL \n",
    "  --> Used LightGBM with 5-fold Stratified CV and early stopping.<br>\n",
    "  --> Results : ROC AUC ~ 0.95(out-of-fold) & PR AUC ~ 0.10(much higher than baseline).<br>\n",
    "  --> Demonstrates strong ability to rank fraudulent transactions.<br>\n",
    "  "
   ]
  },
  {
   "cell_type": "markdown",
   "id": "749d4031-3776-4180-90e8-8aa5f7699189",
   "metadata": {},
   "source": [
    "## Q2.FRAUD DETECTION MODEL ELABORATION ##\n",
    " --> We started with Logistic Regression as a weak baseline, then moved to LightGBM, which significantly improved fraud detection performance. This progression illustrates how we iteratively improved the model, addressing class imbalance and enhancing interpretability.\n",
    "  "
   ]
  },
  {
   "cell_type": "markdown",
   "id": "2a0f283c-0c87-454a-8985-2fb9f8197045",
   "metadata": {},
   "source": [
    "## Model Calibration"
   ]
  },
  {
   "cell_type": "code",
   "execution_count": 102,
   "id": "bd113e3c-3178-41bc-91e8-bec4a35342c7",
   "metadata": {},
   "outputs": [
    {
     "name": "stdout",
     "output_type": "stream",
     "text": [
      "Fitting CalibratedClassifierCV (isotonic) on calibration set...\n"
     ]
    },
    {
     "name": "stderr",
     "output_type": "stream",
     "text": [
      "C:\\Users\\sukes\\anaconda3\\Lib\\site-packages\\sklearn\\calibration.py:333: UserWarning: The `cv='prefit'` option is deprecated in 1.6 and will be removed in 1.8. You can use CalibratedClassifierCV(FrozenEstimator(estimator)) instead.\n",
      "  warnings.warn(\n"
     ]
    },
    {
     "name": "stdout",
     "output_type": "stream",
     "text": [
      "Calibrated ROC AUC: 0.956712883033211\n",
      "Calibrated PR AUC: 0.08839789878328058\n"
     ]
    }
   ],
   "source": [
    "from sklearn.calibration import CalibratedClassifierCV\n",
    "from sklearn.metrics import roc_auc_score, average_precision_score\n",
    "from sklearn.utils.metaestimators import available_if\n",
    "\n",
    "print(\"Fitting CalibratedClassifierCV (isotonic) on calibration set...\")\n",
    "\n",
    "calibrator = CalibratedClassifierCV(\n",
    "    estimator=model,  # your last trained LightGBM model\n",
    "    method='isotonic',\n",
    "    cv=\"prefit\"  # already trained\n",
    ")\n",
    "\n",
    "calibrator.fit(X_calib, y_calib)\n",
    "\n",
    "# Predicting calibrated probabilities\n",
    "y_calibrated = calibrator.predict_proba(X_val)[:,1]\n",
    "\n",
    "# Metrics\n",
    "print(\"Calibrated ROC AUC:\", roc_auc_score(y_val, y_calibrated))\n",
    "print(\"Calibrated PR AUC:\", average_precision_score(y_val, y_calibrated))\n"
   ]
  },
  {
   "cell_type": "markdown",
   "id": "b16dc3c3-ee89-486f-97b8-04ea62cf783e",
   "metadata": {},
   "source": [
    "# CALIBRATION (ISOTONIC)\n",
    "  --> Calibrated LightGBM probabilities with isotonic regression.<br>\n",
    "  --> Improved probability reliability (better alingment with true fraud likelihood).<br>\n",
    "  --> ROC AUC remained ~ 0.95, PR AUC ~ 0.09."
   ]
  },
  {
   "cell_type": "markdown",
   "id": "242b6e49-91c7-420d-994d-4f7c616529c8",
   "metadata": {},
   "source": [
    "## Precision@k function"
   ]
  },
  {
   "cell_type": "code",
   "execution_count": 103,
   "id": "0a24ae50-5dad-49d3-a1c7-085680fbf3d4",
   "metadata": {},
   "outputs": [
    {
     "name": "stdout",
     "output_type": "stream",
     "text": [
      "Calibrated Precision@0%: 0.0943\n",
      "Calibrated Precision@1%: 0.0611\n"
     ]
    }
   ],
   "source": [
    "def precision_at_k(y_true, y_scores, k_fraction):\n",
    "    import numpy as np\n",
    "    n = len(y_true)\n",
    "    k = max(1, int(np.floor(k_fraction * n)))\n",
    "    idx = np.argsort(y_scores)[-k:]\n",
    "    return y_true.reset_index(drop=True).iloc[idx].sum() / k\n",
    "for k in [0.005, 0.01]:\n",
    "    p = precision_at_k(y_val, pd.Series(y_calibrated), k)\n",
    "    print(f\"Calibrated Precision@{int(k*100)}%: {p:.4f}\")\n"
   ]
  },
  {
   "cell_type": "markdown",
   "id": "b3a7cb85-43ef-4cbb-a09d-6981f8591131",
   "metadata": {},
   "source": [
    "# PRECISION@K\n",
    "  --> At **top 0.5% of transactions** : Precision ~ 9%.<br>\n",
    "  --> At **top 1% of transactions** : Precision ~ 6%.<br>\n",
    "  --> This shows the model is effective in **flagging the riskiest subset of transactions**.<br>\n"
   ]
  },
  {
   "cell_type": "markdown",
   "id": "0e5a1879-8377-44c4-8e05-5db26b236f3e",
   "metadata": {},
   "source": [
    "## Q4. MODEL PERFORMANCE ##\n",
    "  --> LightGBM significantly outperformed baseline(LogReg).<br>\n",
    "  --> Key metrics: ROC AUC ~ 0.95, PR AUC ~ 0.10, Precision@Top-K improved.<br>\n",
    "  --> Demonstrates strong ability to rank suspicious transactions."
   ]
  },
  {
   "cell_type": "markdown",
   "id": "ffc2233a-a413-4429-81dd-ca0f7f4a4ffc",
   "metadata": {},
   "source": [
    "## Save Model and SHAP feature importance"
   ]
  },
  {
   "cell_type": "code",
   "execution_count": 104,
   "id": "2c2b93ab-eb51-47f2-9815-794c90eb9fea",
   "metadata": {},
   "outputs": [
    {
     "name": "stdout",
     "output_type": "stream",
     "text": [
      "Saved lgbm_model.pkl and feature_columns.json\n"
     ]
    }
   ],
   "source": [
    "import joblib, json\n",
    "import shap\n",
    "try:\n",
    "    base_model = lgb_clf  \n",
    "except NameError:\n",
    "    base_model = model    \n",
    "\n",
    "# Save LightGBM model + feature list\n",
    "joblib.dump(base_model, \"lgbm_model.pkl\")\n",
    "\n",
    "with open(\"feature_columns.json\", \"w\") as f:\n",
    "    json.dump(X_train.columns.tolist(), f)\n",
    "\n",
    "print(\"Saved lgbm_model.pkl and feature_columns.json\")"
   ]
  },
  {
   "cell_type": "code",
   "execution_count": 105,
   "id": "084b87b4-13a9-4f1c-bccf-f86a111e234b",
   "metadata": {},
   "outputs": [
    {
     "data": {
      "image/png": "[encoded data removed]",
      "text/plain": [
       "<Figure size 800x430 with 2 Axes>"
      ]
     },
     "metadata": {},
     "output_type": "display_data"
    },
    {
     "name": "stdout",
     "output_type": "stream",
     "text": [
      "Saved shap_summary_beeswarm.png\n"
     ]
    }
   ],
   "source": [
    "import shap\n",
    "import numpy as np\n",
    "import matplotlib.pyplot as plt\n",
    "\n",
    "SHAP_SAMPLE = min(2000, len(X_val))\n",
    "X_shap = X_val.iloc[:SHAP_SAMPLE].copy()\n",
    "\n",
    "explainer = shap.TreeExplainer(base_model)  \n",
    "shap_out = explainer(X_shap)  \n",
    "if isinstance(shap_out, list):\n",
    "    shap_vals_pos = shap_out[1]\n",
    "elif hasattr(shap_out, \"values\"):\n",
    "    vals = shap_out.values\n",
    "    if vals.ndim == 3:\n",
    "        if vals.shape[0] > 1:\n",
    "            shap_vals_pos = vals[1]\n",
    "        else:\n",
    "            shap_vals_pos = vals[0]\n",
    "    elif vals.ndim == 2:\n",
    "        shap_vals_pos = vals\n",
    "    else:\n",
    "        raise ValueError(f\"Unexpected shap values ndim: {vals.ndim}\")\n",
    "else:\n",
    "    alt = explainer.shap_values(X_shap)\n",
    "    if isinstance(alt, list):\n",
    "        shap_vals_pos = alt[1]\n",
    "    else:\n",
    "        shap_vals_pos = alt\n",
    "shap_vals_pos = np.asarray(shap_vals_pos)\n",
    "if shap_vals_pos.ndim != 2:\n",
    "    raise AssertionError(f\"shap_vals_pos must be 2D (n_samples, n_features); got shape {shap_vals_pos.shape}\")\n",
    "\n",
    "# Plotting\n",
    "plt.figure(figsize=(8,6))\n",
    "shap.summary_plot(shap_vals_pos, X_shap, show=False)\n",
    "plt.tight_layout()\n",
    "plt.savefig(\"shap_summary_beeswarm.png\", dpi=150, bbox_inches=\"tight\")\n",
    "plt.show()\n",
    "print(\"Saved shap_summary_beeswarm.png\")\n"
   ]
  },
  {
   "cell_type": "code",
   "execution_count": 106,
   "id": "80bd680f-f03b-46ba-b30b-c602bb2b4a8e",
   "metadata": {},
   "outputs": [
    {
     "data": {
      "image/png": "[encoded data removed]",
      "text/plain": [
       "<Figure size 640x480 with 1 Axes>"
      ]
     },
     "metadata": {},
     "output_type": "display_data"
    }
   ],
   "source": [
    "import pandas as pd\n",
    "mean_abs = np.abs(shap_vals_pos).mean(axis=0)\n",
    "fi_shap = pd.DataFrame({\"feature\": X_shap.columns, \"mean_abs_shap\": mean_abs}).sort_values(\"mean_abs_shap\", ascending=False)\n",
    "fi_shap.head(20)\n",
    "fi_shap.head(10).plot.barh(x=\"feature\", y=\"mean_abs_shap\", legend=False)\n",
    "plt.gca().invert_yaxis()\n",
    "plt.title(\"Mean |SHAP| top features\")\n",
    "plt.tight_layout()\n",
    "plt.savefig(\"shap_importance_bar.png\", dpi=150, bbox_inches=\"tight\")\n"
   ]
  },
  {
   "cell_type": "markdown",
   "id": "cbdde34f-af18-4705-9dab-b74b63016d09",
   "metadata": {},
   "source": [
    "# FEATURE IMPORTANCE (SHAP)\n",
    "  --> Most influential factors for fraud detection are **'type_CASH_OUT'** and **'type_TRANSFER'** with high fraud risk.<br>\n",
    "  --> **'step'** and **'amount'** are secondary importance.<br>\n",
    "  This results make sense : Fraud is most common in high-value cash-out and transfer transactions."
   ]
  },
  {
   "cell_type": "markdown",
   "id": "9a8f7440-5100-457b-8eda-2b21cd32adc4",
   "metadata": {},
   "source": [
    "## Q5.KEY FRAUD PREDICTORS ##\n",
    "  --> SHAP Analysis shows : <br>\n",
    "  -> Transaction type (CASH_OUT, TRANSFER)<br>\n",
    "  -> Transaction amount<br>\n",
    "  -> Step (time)<br>\n",
    "  Are strong indicators of fraud"
   ]
  },
  {
   "cell_type": "markdown",
   "id": "33ab23e6-786a-4495-ad7a-92089f162556",
   "metadata": {},
   "source": [
    "## Q6.DO THESE FACTORS MAKE SENSE ##\n",
    "  --> Yes: Fraudsters often transfer/withdraw large amounts quickly.<br>\n",
    "  --> High CASH_OUT and TRANSFER volumes align with known fraud behavior.<br>\n",
    "  --> Time patterns (step) capture fraud bursts."
   ]
  },
  {
   "cell_type": "code",
   "execution_count": 107,
   "id": "30514bf8-631f-402e-bbeb-43c0d7741b17",
   "metadata": {},
   "outputs": [
    {
     "name": "stdout",
     "output_type": "stream",
     "text": [
      "---- Top 0.50% ----\n",
      "Flagged count: 6362\n",
      "Precision: 0.0943  Recall: 0.3652  F1: 0.1499\n",
      "Confusion matrix:\n",
      " [[1265119    5762]\n",
      " [   1043     600]]\n",
      "Fraud amount total: 2382675325.93\n",
      "Fraud amount blocked: 1646752131.6100001 (69.11% of fraud value)\n",
      "\n",
      "---- Top 1.00% ----\n",
      "Flagged count: 12725\n",
      "Precision: 0.0611  Recall: 0.4735  F1: 0.1083\n",
      "Confusion matrix:\n",
      " [[1258934   11947]\n",
      " [    865     778]]\n",
      "Fraud amount total: 2382675325.93\n",
      "Fraud amount blocked: 1854668135.94 (77.84% of fraud value)\n",
      "\n",
      "---- Top 2.00% ----\n",
      "Flagged count: 25450\n",
      "Precision: 0.0378  Recall: 0.5861  F1: 0.0711\n",
      "Confusion matrix:\n",
      " [[1246394   24487]\n",
      " [    680     963]]\n",
      "Fraud amount total: 2382675325.93\n",
      "Fraud amount blocked: 2055285202.82 (86.26% of fraud value)\n",
      "\n",
      "---- Thresh >= 0.500 ----\n",
      "Flagged count: 0\n",
      "Precision: 0.0000  Recall: 0.0000  F1: 0.0000\n",
      "Confusion matrix:\n",
      " [[1270881       0]\n",
      " [   1643       0]]\n",
      "Fraud amount total: 2382675325.93\n",
      "Fraud amount blocked: 0.0 (0.00% of fraud value)\n",
      "\n",
      "---- Thresh >= 0.800 ----\n",
      "Flagged count: 0\n",
      "Precision: 0.0000  Recall: 0.0000  F1: 0.0000\n",
      "Confusion matrix:\n",
      " [[1270881       0]\n",
      " [   1643       0]]\n",
      "Fraud amount total: 2382675325.93\n",
      "Fraud amount blocked: 0.0 (0.00% of fraud value)\n",
      "\n",
      "---- Thresh >= 0.900 ----\n",
      "Flagged count: 0\n",
      "Precision: 0.0000  Recall: 0.0000  F1: 0.0000\n",
      "Confusion matrix:\n",
      " [[1270881       0]\n",
      " [   1643       0]]\n",
      "Fraud amount total: 2382675325.93\n",
      "Fraud amount blocked: 0.0 (0.00% of fraud value)\n",
      "\n",
      "---- Thresh >= 0.990 ----\n",
      "Flagged count: 0\n",
      "Precision: 0.0000  Recall: 0.0000  F1: 0.0000\n",
      "Confusion matrix:\n",
      " [[1270881       0]\n",
      " [   1643       0]]\n",
      "Fraud amount total: 2382675325.93\n",
      "Fraud amount blocked: 0.0 (0.00% of fraud value)\n",
      "\n"
     ]
    }
   ],
   "source": [
    "import numpy as np, pandas as pd\n",
    "from sklearn.metrics import precision_score, recall_score, f1_score, confusion_matrix\n",
    "\n",
    "# finding predicted probabilities\n",
    "if 'y_calibrated' in globals():\n",
    "    probs = np.asarray(y_calibrated)\n",
    "elif 'y_val_proba_calib' in globals():\n",
    "    probs = np.asarray(y_val_proba_calib)\n",
    "elif 'y_val_probs' in globals():\n",
    "    probs = np.asarray(y_val_probs)\n",
    "else:\n",
    "    try:\n",
    "        probs = calibrator.predict_proba(X_val[feature_cols])[:,1]\n",
    "    except Exception:\n",
    "        probs = lgb_clf.predict_proba(X_val[feature_cols])[:,1]\n",
    "\n",
    "# Ensure we have X_val and amount column for economic impact simulation\n",
    "if 'X_val' not in globals():\n",
    "    raise RuntimeError(\"X_val not found in workspace. Run the data split code first.\")\n",
    "if 'amount' not in X_val.columns:\n",
    "    print(\"Warning: 'amount' column not present in X_val; economic-impact simulation will skip.\")\n",
    "    has_amount = False\n",
    "else:\n",
    "    has_amount = True\n",
    "y_true = y_val.reset_index(drop=True)\n",
    "probs_series = pd.Series(probs, index=y_true.index)\n",
    "\n",
    "def simulate_block_top_k(probs, y_true, X_val, k_fraction):\n",
    "    \"\"\"\n",
    "    Block (prevent) the top k_fraction of transactions by predicted probability.\n",
    "    Returns performance metrics and simple economic numbers if 'amount' exists.\n",
    "    \"\"\"\n",
    "    n = len(probs)\n",
    "    k = max(1, int(np.floor(k_fraction * n)))\n",
    "    idx = np.argsort(probs)[-k:]           \n",
    "    flagged = np.zeros(n, dtype=int)\n",
    "    flagged[idx] = 1                      \n",
    "    precision = precision_score(y_true, flagged, zero_division=0)\n",
    "    recall    = recall_score(y_true, flagged, zero_division=0)\n",
    "    f1        = f1_score(y_true, flagged, zero_division=0)\n",
    "    cm        = confusion_matrix(y_true, flagged)\n",
    "    econ = {}\n",
    "    if has_amount:\n",
    "        df_val = X_val.copy().reset_index(drop=True)\n",
    "        df_val['y_true'] = y_true\n",
    "        df_val['flagged'] = flagged\n",
    "        fraud_total_amount = df_val.loc[df_val['y_true']==1, 'amount'].sum()\n",
    "        fraud_blocked_amount = df_val.loc[(df_val['y_true']==1) & (df_val['flagged']==1), 'amount'].sum()\n",
    "        econ['fraud_total_amount'] = float(fraud_total_amount)\n",
    "        econ['fraud_blocked_amount'] = float(fraud_blocked_amount)\n",
    "        econ['fraud_blocked_fraction'] = (fraud_blocked_amount / fraud_total_amount) if fraud_total_amount>0 else 0.0\n",
    "    return {\n",
    "        'k_fraction': k_fraction,\n",
    "        'n_flagged': int(k),\n",
    "        'precision': float(precision),\n",
    "        'recall': float(recall),\n",
    "        'f1': float(f1),\n",
    "        'confusion_matrix': cm,\n",
    "        'econ': econ\n",
    "    }\n",
    "def simulate_threshold(probs, y_true, X_val, threshold):\n",
    "    \"\"\"\n",
    "    Treat any transaction with prob >= threshold as fraudulent and blocked.\n",
    "    \"\"\"\n",
    "    flagged = (probs >= threshold).astype(int)\n",
    "    precision = precision_score(y_true, flagged, zero_division=0)\n",
    "    recall    = recall_score(y_true, flagged, zero_division=0)\n",
    "    f1        = f1_score(y_true, flagged, zero_division=0)\n",
    "    cm        = confusion_matrix(y_true, flagged)\n",
    "    econ = {}\n",
    "    if has_amount:\n",
    "        df_val = X_val.copy().reset_index(drop=True)\n",
    "        df_val['y_true'] = y_true\n",
    "        df_val['flagged'] = flagged\n",
    "        fraud_total_amount = df_val.loc[df_val['y_true']==1, 'amount'].sum()\n",
    "        fraud_blocked_amount = df_val.loc[(df_val['y_true']==1) & (df_val['flagged']==1), 'amount'].sum()\n",
    "        econ['fraud_total_amount'] = float(fraud_total_amount)\n",
    "        econ['fraud_blocked_amount'] = float(fraud_blocked_amount)\n",
    "        econ['fraud_blocked_fraction'] = (fraud_blocked_amount / fraud_total_amount) if fraud_total_amount>0 else 0.0\n",
    "    return {\n",
    "        'threshold': float(threshold),\n",
    "        'n_flagged': int(flagged.sum()),\n",
    "        'precision': float(precision),\n",
    "        'recall': float(recall),\n",
    "        'f1': float(f1),\n",
    "        'confusion_matrix': cm,\n",
    "        'econ': econ\n",
    "    }\n",
    "results = []\n",
    "for k in [0.005, 0.01, 0.02]:\n",
    "    results.append(simulate_block_top_k(probs, y_true, X_val, k))\n",
    "\n",
    "for t in [0.5, 0.8, 0.9, 0.99]:\n",
    "    results.append(simulate_threshold(probs, y_true, X_val, t))\n",
    "for r in results:\n",
    "    if 'k_fraction' in r:\n",
    "        label = f\"Top {r['k_fraction']*100:.2f}%\"\n",
    "    else:\n",
    "        label = f\"Thresh >= {r['threshold']:.3f}\"\n",
    "    print(\"----\", label, \"----\")\n",
    "    print(\"Flagged count:\", r['n_flagged'])\n",
    "    print(\"Precision:\", f\"{r['precision']:.4f}\", \" Recall:\", f\"{r['recall']:.4f}\", \" F1:\", f\"{r['f1']:.4f}\")\n",
    "    print(\"Confusion matrix:\\n\", r['confusion_matrix'])\n",
    "    if r['econ']:\n",
    "        print(\"Fraud amount total:\", r['econ']['fraud_total_amount'])\n",
    "        print(\"Fraud amount blocked:\", r['econ']['fraud_blocked_amount'],\n",
    "              f\"({r['econ']['fraud_blocked_fraction']*100:.2f}% of fraud value)\")\n",
    "    print()\n"
   ]
  },
  {
   "cell_type": "markdown",
   "id": "a2b267a1-79e1-48be-9215-d2dd40959dbd",
   "metadata": {},
   "source": [
    "## Q7.PREVENTION STRATEGIES ##\n",
    "  --> Real-time blocking of top-K% high-risk transactions.<br>\n",
    "  --> Adaptive transaction threshold for CASH_OUT/TRANSFER.<br>\n",
    "  --> Stronger monitoring of flagged accounts and high-value transactions.<br>\n",
    "  --> Continuous retraining with fresh fraud data."
   ]
  },
  {
   "cell_type": "markdown",
   "id": "be157379-95b7-462e-9f50-f48c5737f37a",
   "metadata": {},
   "source": [
    "## Q8.MEASURING SUCCESS ##\n",
    "  --> Track fraud detection rate, false positives, and financial savings post-deployment.<br>\n",
    "  --> Monitor Precision@K and PR AUC on live data.<br>\n",
    "  --> Feedback loop with fraud investigation team to validate flagged cases."
   ]
  },
  {
   "cell_type": "code",
   "execution_count": 108,
   "id": "90ed3e12-7477-490e-87a4-e10911f056c5",
   "metadata": {},
   "outputs": [
    {
     "name": "stdout",
     "output_type": "stream",
     "text": [
      "Classification report (top 0.5% flagged as fraud):\n",
      "              precision    recall  f1-score   support\n",
      "\n",
      "           0     0.9992    0.9955    0.9973   1270881\n",
      "           1     0.0943    0.3652    0.1499      1643\n",
      "\n",
      "    accuracy                         0.9947   1272524\n",
      "   macro avg     0.5467    0.6803    0.5736   1272524\n",
      "weighted avg     0.9980    0.9947    0.9962   1272524\n",
      "\n"
     ]
    },
    {
     "data": {
      "image/png": "[encoded data removed]",
      "text/plain": [
       "<Figure size 400x300 with 2 Axes>"
      ]
     },
     "metadata": {},
     "output_type": "display_data"
    }
   ],
   "source": [
    "from sklearn.metrics import classification_report, confusion_matrix\n",
    "import seaborn as sns\n",
    "import matplotlib.pyplot as plt\n",
    "k = 0.005\n",
    "n = len(probs)\n",
    "k_idx = max(1, int(np.floor(k * n)))\n",
    "topk_idx = np.argsort(probs)[-k_idx:]\n",
    "y_pred_topk = np.zeros(n, dtype=int)\n",
    "y_pred_topk[topk_idx] = 1\n",
    "\n",
    "print(\"Classification report (top 0.5% flagged as fraud):\")\n",
    "print(classification_report(y_true, y_pred_topk, digits=4))\n",
    "\n",
    "cm = confusion_matrix(y_true, y_pred_topk)\n",
    "plt.figure(figsize=(4,3))\n",
    "sns.heatmap(cm, annot=True, fmt=\"d\", cmap=\"Blues\")\n",
    "plt.title(f\"Confusion Matrix @ top {k*100:.2f}%\")\n",
    "plt.xlabel(\"Predicted\")\n",
    "plt.ylabel(\"Actual\")\n",
    "plt.show()\n"
   ]
  },
  {
   "cell_type": "markdown",
   "id": "6aec74ef-4719-4d0e-a105-f06a7c0aedc4",
   "metadata": {},
   "source": [
    "# FINAL CONCLUSION & RECOMMENDATIONS\n",
    "  ### Key Outcomes ###\n",
    "  --> Built a **Fraud detection model** on 6.3M transactions (10 features).<br>\n",
    "  --> Performed **data cleaning, multicollinearity handling (VIF), and encoding**.<br>\n",
    "  --> Trained with **Logistic Regression baseline** and **LightGBM with StratifiedKFold + early stopping**.<br>\n",
    "  --> Achieved strong performance:\n",
    "   -> ROC AUC ~ 0.95+<br>\n",
    "   -> Precision@0.5% ~ 9%<br>\n",
    "   -> Precision@1% ~ 6%<br>\n",
    "  --> Interpreted model with **SHAP**, highlighting key drivers:\n",
    "   -> 'type_CASH_OUT' and 'type_TRANSFER'<br>\n",
    "   -> transaction 'amount'<br>\n",
    "   -> transaction 'step' (time/day).<br>\n",
    "\n",
    "  ### Business Insights ###\n",
    "  --> Fraudulent activity is concentrated in **specific transaction types** (cash-out, transfers).<br>\n",
    "  --> Larger transaction amounts strongly correlate with higher fraud probability.<br>\n",
    "  --> Fraud paterns are **time-dependent**, indicating suspicious bursts of activity.<br>\n",
    "\n",
    "  ### Prevention Recommendations ###\n",
    "  --> **Top-K% Blocking:** Proactively flag the riskiest 0.5-1% of transactions (simulation shows significant fraud reduction).<br>\n",
    "  --> **Dynamic Thresholds:** Use probability cutoffs (e.g., >0.9 fraud probability) to trigger manual review.<br>\n",
    "  --> **Two-Factor Authentication:** For high-value transactions (large 'amount').<br>\n",
    "  --> **Monitoring Cash-Out & Transfers:** Focus on these transaction types with stricter checks.<br>\n",
    "  --> **Adaptive Learning:** Continuouslyretrain model with new fraud patterns.<br>\n",
    "\n",
    "  ### How to Evaluate Impact ###\n",
    "  --> Track **fraud loss saved vs. false positives**.<br>\n",
    "  --> Monitor **customer complaints and friction** caused by blocking.<br>\n",
    "  --> Recalibrate the threshold quarterly based on updated fraud trends.<br>"
   ]
  }
 ],
 "metadata": {
  "kernelspec": {
   "display_name": "Python 3 (ipykernel)",
   "language": "python",
   "name": "python3"
  },
  "language_info": {
   "codemirror_mode": {
    "name": "ipython",
    "version": 3
   },
   "file_extension": ".py",
   "mimetype": "text/x-python",
   "name": "python",
   "nbconvert_exporter": "python",
   "pygments_lexer": "ipython3",
   "version": "3.11.7"
  }
 },
 "nbformat": 4,
 "nbformat_minor": 5
}
